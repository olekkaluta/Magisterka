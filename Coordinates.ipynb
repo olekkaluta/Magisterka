{
 "cells": [
  {
   "cell_type": "code",
   "execution_count": 2,
   "id": "4afa7383",
   "metadata": {},
   "outputs": [],
   "source": [
    "import tkinter as tk\n",
    "from tkinter import filedialog\n",
    "from PIL import Image, ImageTk\n",
    "\n",
    "def show_coordinates(event):\n",
    "    x, y = event.x, event.y\n",
    "\n",
    "    # Usunięcie poprzednich elementów z płótna (tekst + tło)\n",
    "    canvas.delete(\"coord_text\")\n",
    "\n",
    "    # Sprawdzanie granic płótna, aby uniknąć wyświetlania współrzędnych poza obszarem obrazu\n",
    "    canvas_width = canvas.winfo_width()\n",
    "    canvas_height = canvas.winfo_height()\n",
    "\n",
    "    # Ustalanie pozycji tekstu, aby nie wyświetlał się poza krawędzią obrazu\n",
    "    text_x = x + 40 if x + 80 < canvas_width else x - 40\n",
    "    text_y = y + 15 if y + 30 < canvas_height else y - 15\n",
    "\n",
    "    # Dodanie tła pod współrzędne\n",
    "    canvas.create_rectangle(text_x - 40, text_y - 15, text_x + 40, text_y + 15, fill=\"black\", tags=\"coord_text\")\n",
    "\n",
    "    # Wyświetlenie współrzędnych w nowym miejscu\n",
    "    canvas.create_text(text_x, text_y, text=f\"x={x}, y={y}\", fill=\"white\", font=(\"Arial\", 12), tags=\"coord_text\")\n",
    "\n",
    "def open_image():\n",
    "    file_path = filedialog.askopenfilename()  # Umożliwia wybranie pliku obrazu\n",
    "    if file_path:\n",
    "        img = Image.open(file_path)\n",
    "        img_tk = ImageTk.PhotoImage(img)\n",
    "\n",
    "        # Usunięcie poprzedniego obrazu i współrzędnych\n",
    "        canvas.delete(\"all\")\n",
    "\n",
    "        # Dostosowanie płótna do rozmiaru nowego obrazu\n",
    "        canvas.config(width=img.width, height=img.height)\n",
    "        canvas.create_image(0, 0, anchor=tk.NW, image=img_tk)\n",
    "        canvas.image = img_tk  # Zachowanie referencji do obrazu, aby Tkinter go nie usunął\n",
    "\n",
    "root = tk.Tk()\n",
    "root.title(\"Image Coordinates\")\n",
    "\n",
    "# Tworzenie ramki bocznej na przycisk\n",
    "side_frame = tk.Frame(root)\n",
    "side_frame.pack(side=tk.LEFT, padx=10, pady=10)\n",
    "\n",
    "# Przycisk do otwierania obrazów umieszczony z boku\n",
    "button = tk.Button(side_frame, text=\"Open Image\", command=open_image)\n",
    "button.pack()\n",
    "\n",
    "# Tworzenie płótna na obraz umieszczonego obok przycisku\n",
    "canvas = tk.Canvas(root)\n",
    "canvas.pack(side=tk.LEFT)\n",
    "\n",
    "# Przypisanie funkcji do zdarzenia ruchu myszy\n",
    "canvas.bind(\"<Motion>\", show_coordinates)\n",
    "\n",
    "root.mainloop()\n"
   ]
  },
  {
   "cell_type": "code",
   "execution_count": null,
   "id": "4534b587",
   "metadata": {},
   "outputs": [],
   "source": []
  }
 ],
 "metadata": {
  "kernelspec": {
   "display_name": "Python 3 (ipykernel)",
   "language": "python",
   "name": "python3"
  },
  "language_info": {
   "codemirror_mode": {
    "name": "ipython",
    "version": 3
   },
   "file_extension": ".py",
   "mimetype": "text/x-python",
   "name": "python",
   "nbconvert_exporter": "python",
   "pygments_lexer": "ipython3",
   "version": "3.9.15"
  }
 },
 "nbformat": 4,
 "nbformat_minor": 5
}
