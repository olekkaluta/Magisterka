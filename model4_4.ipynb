{
 "cells": [
  {
   "cell_type": "code",
   "execution_count": 1,
   "id": "7c439cd6",
   "metadata": {},
   "outputs": [],
   "source": [
    "import jax\n",
    "import jax.numpy as jnp\n",
    "import numpy as np\n",
    "from jax.experimental.ode import odeint\n",
    "import matplotlib.pyplot as plt\n",
    "from functools import partial # reduces arguments to function by making some subset implicit\n",
    "\n",
    "#from jax.experimental import stax\n",
    "from jax.example_libraries import stax\n",
    "from jax.example_libraries import optimizers\n",
    "#from jax.experimental import optimizers\n",
    "\n",
    "# visualization\n",
    "import matplotlib.pyplot as plt\n",
    "from matplotlib.patches import Circle\n",
    "from moviepy.editor import ImageSequenceClip\n",
    "from functools import partial\n",
    "import proglog\n",
    "from PIL import Image\n",
    "\n",
    "def lagrangian(q, q_dot, m1, m2, l1, l2, g):\n",
    "    t1, t2 = q     # theta 1 and theta 2\n",
    "    w1, w2 = q_dot # omega 1 and omega 2\n",
    "\n",
    "      # kinetic energy (T)\n",
    "    T1 = 0.5 * m1 * (l1 * w1)**2\n",
    "    T2 = 0.5 * m2 * ((l1 * w1)**2 + (l2 * w2)**2 +\n",
    "                        2 * l1 * l2 * w1 * w2 * jnp.cos(t1 - t2))\n",
    "    T = T1 + T2\n",
    "\n",
    "      # potential energy (V)\n",
    "    y1 = -l1 * jnp.cos(t1)\n",
    "    y2 = y1 - l2 * jnp.cos(t2)\n",
    "    V = m1 * g * y1 + m2 * g * y2\n",
    "\n",
    "    return T - V\n",
    "\n",
    "def f_analytical(state, t=0, m1=1, m2=1, l1=1, l2=1, g=9.8):\n",
    "    t1, t2, w1, w2 = state\n",
    "    a1 = (l2 / l1) * (m2 / (m1 + m2)) * jnp.cos(t1 - t2)\n",
    "    a2 = (l1 / l2) * jnp.cos(t1 - t2)\n",
    "    f1 = -(l2 / l1) * (m2 / (m1 + m2)) * (w2**2) * jnp.sin(t1 - t2) - \\\n",
    "    (g / l1) * jnp.sin(t1)\n",
    "    f2 = (l1 / l2) * (w1**2) * jnp.sin(t1 - t2) - (g / l2) * jnp.sin(t2)\n",
    "    g1 = (f1 - a1 * f2) / (1 - a1 * a2)\n",
    "    g2 = (f2 - a2 * f1) / (1 - a1 * a2)\n",
    "    return jnp.stack([w1, w2, g1, g2])\n",
    "\n",
    "def equation_of_motion(lagrangian, state, t=None):\n",
    "    q, q_t = jnp.split(state, 2)\n",
    "    q_tt = (jnp.linalg.pinv(jax.hessian(lagrangian, 1)(q, q_t))\n",
    "          @ (jax.grad(lagrangian, 0)(q, q_t)\n",
    "             - jax.jacobian(jax.jacobian(lagrangian, 1), 0)(q, q_t) @ q_t))\n",
    "    return jnp.concatenate([q_t, q_tt])\n",
    "\n",
    "def solve_lagrangian(lagrangian, initial_state, **kwargs):\n",
    "  # We currently run odeint on CPUs only, because its cost is dominated by\n",
    "  # control flow, which is slow on GPUs.\n",
    "    @partial(jax.jit, backend='cpu')\n",
    "    def f(initial_state):\n",
    "        return odeint(partial(equation_of_motion, lagrangian),\n",
    "                  initial_state, **kwargs)\n",
    "    return f(initial_state)\n",
    "\n",
    "# Double pendulum dynamics via the rewritten Euler-Lagrange\n",
    "@partial(jax.jit, backend='cpu')\n",
    "def solve_autograd(initial_state, times, m1=1, m2=1, l1=1, l2=1, g=9.8):\n",
    "    L = partial(lagrangian, m1=m1, m2=m2, l1=l1, l2=l2, g=g)\n",
    "    return solve_lagrangian(L, initial_state, t=times, rtol=1e-10, atol=1e-10)\n",
    "\n",
    "# Double pendulum dynamics via analytical forces taken from Diego's blog\n",
    "@partial(jax.jit, backend='cpu')\n",
    "def solve_analytical(initial_state, times):\n",
    "    return odeint(f_analytical, initial_state, t=times, rtol=1e-10, atol=1e-10)\n",
    "\n",
    "def normalize_dp(state):\n",
    "  # wrap generalized coordinates to [-pi, pi]\n",
    "  return jnp.concatenate([(state[:2] + np.pi) % (2 * np.pi) - np.pi, state[2:]])\n",
    "\n",
    "def rk4_step(f, x, t, h):\n",
    "  # one step of runge-kutta integration\n",
    "    k1 = h * f(x, t)\n",
    "    k2 = h * f(x + k1/2, t + h/2)\n",
    "    k3 = h * f(x + k2/2, t + h/2)\n",
    "    k4 = h * f(x + k3, t + h)\n",
    "    return x + 1/6 * (k1 + 2 * k2 + 2 * k3 + k4)"
   ]
  },
  {
   "cell_type": "code",
   "execution_count": 2,
   "id": "3ba147d7",
   "metadata": {},
   "outputs": [
    {
     "name": "stdout",
     "output_type": "stream",
     "text": [
      "Wall time: 15.2 s\n",
      "Wall time: 562 ms\n",
      "Wall time: 420 ms\n"
     ]
    }
   ],
   "source": [
    "time_step = 0.01\n",
    "N = 1500\n",
    "analytical_step = jax.jit(jax.vmap(partial(rk4_step, f_analytical, t=0.0, h=time_step)))\n",
    "\n",
    "# x0 = np.array([-0.3*np.pi, 0.2*np.pi, 0.35*np.pi, 0.5*np.pi], dtype=np.float32)\n",
    "x0 = np.array([3*np.pi/7, 3*np.pi/4, 0, 0], dtype=np.float32)\n",
    "t = np.arange(N, dtype=np.float32) # time steps 0 to N\n",
    "%time x_train = jax.device_get(solve_analytical(x0, t)) # dynamics for first N time steps\n",
    "%time xt_train = jax.device_get(jax.vmap(f_analytical)(x_train)) # time derivatives of each state\n",
    "%time y_train = jax.device_get(analytical_step(x_train)) # analytical next step"
   ]
  },
  {
   "cell_type": "code",
   "execution_count": 3,
   "id": "d9434707",
   "metadata": {},
   "outputs": [],
   "source": [
    "x1_new, y1_new, x2_new, y2_new = x_train[:4]"
   ]
  },
  {
   "cell_type": "code",
   "execution_count": 4,
   "id": "cba3ef4d",
   "metadata": {},
   "outputs": [
    {
     "data": {
      "text/plain": [
       "array([1.3463968, 2.3561945, 0.       , 0.       ], dtype=float32)"
      ]
     },
     "execution_count": 4,
     "metadata": {},
     "output_type": "execute_result"
    }
   ],
   "source": [
    "x1_new"
   ]
  },
  {
   "cell_type": "code",
   "execution_count": 5,
   "id": "16b1feea",
   "metadata": {},
   "outputs": [],
   "source": [
    "timeframe = 20 \n",
    "\n",
    "\n",
    "# Initialising two lists (X and Y) to store target positions (Y) and input sequences (X)\n",
    "X, Y = [], []\n",
    "\n",
    "\n",
    "# Looping through positions\n",
    "# We will stop 'timeframe' steps before the end to avoid going out of bounds\n",
    "\n",
    "for i in range(len(x1_new) - timeframe):\n",
    "    \n",
    "    # Stack the next 'timeframe' positions of both masses to serve as the input sequence\n",
    "    X.append(np.vstack((x1_new[i:i+timeframe], y1_new[i:i+timeframe], x2_new[i:i+timeframe], y2_new[i:i+timeframe])).T)\n",
    "    \n",
    "    # Record the positions of both masses 20 steps ahead from the current timestep to set as the prediction target\n",
    "    Y.append([x1_new[i+timeframe], y1_new[i+timeframe], x2_new[i+timeframe], y2_new[i+timeframe]])\n",
    "\n",
    "\n",
    "# Converting position sequences to numpy array\n",
    "X = np.array(X)\n",
    "\n",
    "# Converting targets (positions 20 steps ahead) to numpy array\n",
    "Y = np.array(Y)"
   ]
  },
  {
   "cell_type": "code",
   "execution_count": 6,
   "id": "35fe3703",
   "metadata": {},
   "outputs": [
    {
     "data": {
      "text/plain": [
       "array([], dtype=float64)"
      ]
     },
     "execution_count": 6,
     "metadata": {},
     "output_type": "execute_result"
    }
   ],
   "source": [
    "X"
   ]
  },
  {
   "cell_type": "code",
   "execution_count": 7,
   "id": "ab8f3b9e",
   "metadata": {},
   "outputs": [],
   "source": [
    "def rhs(t, z, L1, L2, m1, m2, g):\n",
    "    \"\"\"\n",
    "    Returns the right-hand side of the ordinary differential equation describing the double pendulem\n",
    "    \"\"\"\n",
    "    theta1, w1, theta2, w2 = z\n",
    "    cos12 = np.cos(theta1 - theta2)\n",
    "    sin12 = np.sin(theta1 - theta2)\n",
    "    sin1 = np.sin(theta1)\n",
    "    sin2 = np.sin(theta2)\n",
    "    xi = cos12**2*m2 - m1 - m2\n",
    "    w1dot = ( L1*m2*cos12*sin12*w1**2 + L2*m2*sin12*w2**2\n",
    "            - m2*g*cos12*sin2      + (m1 + m2)*g*sin1)/(L1*xi)\n",
    "    w2dot = -( L2*m2*cos12*sin12*w2**2 + L1*(m1 + m2)*sin12*w1**2\n",
    "            + (m1 + m2)*g*sin1*cos12  - (m1 + m2)*g*sin2 )/(L2*xi)\n",
    "    return w1, w1dot, w2, w2dot"
   ]
  },
  {
   "cell_type": "code",
   "execution_count": 9,
   "id": "720891fb",
   "metadata": {},
   "outputs": [
    {
     "name": "stdout",
     "output_type": "stream",
     "text": [
      "(4, 501)\n"
     ]
    }
   ],
   "source": [
    "from scipy.integrate import solve_ivp\n",
    "\n",
    "L1, L2 = 1., 1.\n",
    "m1, m2 = 3., 1.\n",
    "g = 9.81     # [m/s^2]. Gravitational acceleration\n",
    "\n",
    "z0=[np.pi/2,0,np.pi/2,0]\n",
    "#z0=[0.1,0,0.1,0]\n",
    "tmax, dt = 50, 0.1\n",
    "t = np.arange(0, tmax+dt, dt)\n",
    "\n",
    "ret = solve_ivp(rhs, (0,tmax), z0, t_eval=t, args=(L1, L2, m1, m2, g))\n",
    "z=ret.y\n",
    "print(np.shape(z))\n",
    "\n",
    "# Extract result\n",
    "theta1, w1, theta2, w2 = z[0], z[1], z[2], z[3]"
   ]
  },
  {
   "cell_type": "code",
   "execution_count": 26,
   "id": "debbc751",
   "metadata": {},
   "outputs": [
    {
     "data": {
      "text/plain": [
       "array([[ 1.57079633e+00,  1.52175814e+00,  1.37533880e+00, ...,\n",
       "        -1.88738660e+00, -1.89872099e+00, -1.81792171e+00],\n",
       "       [ 0.00000000e+00, -9.80293315e-01, -1.93995822e+00, ...,\n",
       "        -5.71079056e-01,  3.44136254e-01,  1.27746850e+00],\n",
       "       [ 1.57079633e+00,  1.57076483e+00,  1.56881720e+00, ...,\n",
       "         2.02290547e+01,  2.01984794e+01,  2.01640628e+01],\n",
       "       [ 0.00000000e+00, -1.88443214e-03, -5.87366067e-02, ...,\n",
       "        -2.79896835e-01, -3.30726918e-01, -3.50010898e-01]])"
      ]
     },
     "execution_count": 26,
     "metadata": {},
     "output_type": "execute_result"
    }
   ],
   "source": [
    "z"
   ]
  },
  {
   "cell_type": "code",
   "execution_count": 28,
   "id": "1fc5eb3a",
   "metadata": {},
   "outputs": [
    {
     "data": {
      "text/plain": [
       "array([[ 1.57079633,  1.52175814,  1.3753388 , ..., -1.8873866 ,\n",
       "        -1.89872099, -1.81792171],\n",
       "       [ 0.        , -0.98029331, -1.93995822, ..., -0.57107906,\n",
       "         0.34413625,  1.2774685 ]])"
      ]
     },
     "execution_count": 28,
     "metadata": {},
     "output_type": "execute_result"
    }
   ],
   "source": [
    "z[:2]"
   ]
  },
  {
   "cell_type": "code",
   "execution_count": 11,
   "id": "7c1eba50",
   "metadata": {},
   "outputs": [
    {
     "data": {
      "text/plain": [
       "array([ 1.57079633e+00,  1.52175814e+00,  1.37533880e+00,  1.13736278e+00,\n",
       "        8.25384158e-01,  4.71333510e-01,  1.24444964e-01, -1.58412895e-01,\n",
       "       -3.60366960e-01, -5.42913938e-01, -7.52408788e-01, -9.66304914e-01,\n",
       "       -1.14237749e+00, -1.25393409e+00, -1.28750022e+00, -1.23658828e+00,\n",
       "       -1.09728260e+00, -8.64030226e-01, -5.37709505e-01, -1.40135120e-01,\n",
       "        2.79784592e-01,  6.62988923e-01,  9.66201559e-01,  1.17292324e+00,\n",
       "        1.28274274e+00,  1.30015286e+00,  1.22737699e+00,  1.07025696e+00,\n",
       "        8.43256285e-01,  5.78394410e-01,  3.32962580e-01,  1.75128397e-01,\n",
       "        8.62908931e-02, -8.86062011e-02, -3.74927190e-01, -6.97738538e-01,\n",
       "       -9.90581789e-01, -1.21597229e+00, -1.35749191e+00, -1.40725853e+00,\n",
       "       -1.36308217e+00, -1.22740503e+00, -1.00821179e+00, -7.24737034e-01,\n",
       "       -4.15420926e-01, -1.43337980e-01,  3.22904611e-02,  1.59815184e-01,\n",
       "        3.61769130e-01,  6.30928885e-01,  9.02525266e-01,  1.12645386e+00,\n",
       "        1.27553088e+00,  1.33723932e+00,  1.30723575e+00,  1.18420218e+00,\n",
       "        9.68904636e-01,  6.65126279e-01,  2.92650603e-01, -9.42100934e-02,\n",
       "       -4.02481705e-01, -5.28271356e-01, -4.37279210e-01, -3.58310949e-01,\n",
       "       -4.22815843e-01, -5.78364098e-01, -7.54302966e-01, -8.55843741e-01,\n",
       "       -7.95485665e-01, -5.20734377e-01, -9.64673595e-02,  1.95495365e-01,\n",
       "        3.66515657e-01,  4.66808472e-01,  5.50511236e-01,  6.64509935e-01,\n",
       "        8.45254522e-01,  1.02259752e+00,  1.00884150e+00,  7.83148852e-01,\n",
       "        4.09879359e-01, -2.12920732e-02, -4.37507362e-01, -8.14019349e-01,\n",
       "       -1.15785443e+00, -1.43905698e+00, -1.60059655e+00, -1.63041279e+00,\n",
       "       -1.52644007e+00, -1.29233170e+00, -9.47281267e-01, -5.19078089e-01,\n",
       "       -1.29804080e-02,  5.40749323e-01,  1.00017721e+00,  1.35264184e+00,\n",
       "        1.61087913e+00,  1.77340271e+00,  1.83732427e+00,  1.80306161e+00,\n",
       "        1.67179218e+00,  1.44162407e+00,  1.10361134e+00,  6.44785420e-01,\n",
       "        1.26608558e-01, -3.53511967e-01, -7.77155424e-01, -1.09965224e+00,\n",
       "       -1.26968436e+00, -1.26190049e+00, -1.11400809e+00, -9.30458536e-01,\n",
       "       -7.45403601e-01, -5.36384682e-01, -2.85867193e-01, -8.96238919e-03,\n",
       "        2.78370506e-01,  6.09243470e-01,  9.86719739e-01,  1.20920868e+00,\n",
       "        1.22339291e+00,  1.05139330e+00,  7.39957525e-01,  3.47619551e-01,\n",
       "       -7.25415384e-02, -4.57119811e-01, -7.22206097e-01, -7.77650824e-01,\n",
       "       -5.81166789e-01, -3.36061609e-01, -2.35126450e-01, -2.34452560e-01,\n",
       "       -2.44740484e-01, -1.52034875e-01,  1.15807870e-01,  4.87111738e-01,\n",
       "        6.45043347e-01,  5.87246663e-01,  3.96676858e-01,  2.06425519e-01,\n",
       "        1.28232410e-01,  2.33700744e-01,  4.17773191e-01,  3.78888010e-01,\n",
       "        1.29183928e-01, -2.32375626e-01, -6.11872829e-01, -9.47312996e-01,\n",
       "       -1.19002260e+00, -1.28558645e+00, -1.20009194e+00, -9.13728142e-01,\n",
       "       -5.03668521e-01, -1.51148126e-01,  1.70712767e-01,  4.81801972e-01,\n",
       "        7.50491333e-01,  9.50006491e-01,  1.08489472e+00,  1.17009332e+00,\n",
       "        1.21626499e+00,  1.21811741e+00,  1.13804670e+00,  9.33035078e-01,\n",
       "        5.97335269e-01,  1.59045849e-01, -3.31469835e-01, -7.90338114e-01,\n",
       "       -1.15280993e+00, -1.39956354e+00, -1.52799853e+00, -1.54305413e+00,\n",
       "       -1.45451554e+00, -1.27952743e+00, -1.03515373e+00, -7.25237136e-01,\n",
       "       -3.49273434e-01,  6.96877332e-02,  4.62870833e-01,  7.26590211e-01,\n",
       "        7.73904666e-01,  6.29229458e-01,  5.28211970e-01,  5.33608220e-01,\n",
       "        5.97415551e-01,  6.38272672e-01,  5.51937715e-01,  2.72873705e-01,\n",
       "       -1.62974660e-01, -4.36899429e-01, -5.39688189e-01, -5.39209718e-01,\n",
       "       -5.31530753e-01, -5.85134302e-01, -7.41786708e-01, -8.87054264e-01,\n",
       "       -8.12196562e-01, -5.26401162e-01, -1.18757101e-01,  3.10426787e-01,\n",
       "        6.94426579e-01,  1.00936987e+00,  1.26112595e+00,  1.44618337e+00,\n",
       "        1.54544862e+00,  1.53763690e+00,  1.41151698e+00,  1.16353442e+00,\n",
       "        7.95810457e-01,  3.26209246e-01, -1.82968254e-01, -6.39125292e-01,\n",
       "       -9.91811166e-01, -1.21221398e+00, -1.29516104e+00, -1.27322476e+00,\n",
       "       -1.19136603e+00, -1.07139832e+00, -9.05153044e-01, -6.75843198e-01,\n",
       "       -3.79513497e-01, -4.86318472e-02,  2.76229340e-01,  6.05594525e-01,\n",
       "        9.78608179e-01,  1.26697876e+00,  1.35646760e+00,  1.25692438e+00,\n",
       "        9.94680783e-01,  6.18826219e-01,  1.80929478e-01, -2.72047517e-01,\n",
       "       -6.95012794e-01, -1.05208294e+00, -1.32401546e+00, -1.50127793e+00,\n",
       "       -1.57407250e+00, -1.53285771e+00, -1.37073271e+00, -1.07997731e+00,\n",
       "       -6.33456655e-01, -1.25631690e-01,  3.25977782e-01,  7.50613336e-01,\n",
       "        1.13788662e+00,  1.45070266e+00,  1.66070313e+00,  1.75264345e+00,\n",
       "        1.72244488e+00,  1.57286479e+00,  1.29719299e+00,  8.83474215e-01,\n",
       "        4.12098434e-01, -4.86208552e-02, -5.01817596e-01, -9.00654655e-01,\n",
       "       -1.16864589e+00, -1.24621694e+00, -1.12251299e+00, -9.07358604e-01,\n",
       "       -7.21621490e-01, -5.49015639e-01, -3.57771700e-01, -1.32573279e-01,\n",
       "        1.42450802e-01,  5.16445983e-01,  9.11221112e-01,  1.09200172e+00,\n",
       "        1.06400805e+00,  8.73993769e-01,  6.05399139e-01,  3.45432922e-01,\n",
       "        1.76783144e-01,  1.80028959e-01,  2.95360408e-01,  2.24041054e-01,\n",
       "       -4.66427708e-02, -4.11914221e-01, -7.75885817e-01, -1.08254363e+00,\n",
       "       -1.30911890e+00, -1.44808918e+00, -1.49659146e+00, -1.44671611e+00,\n",
       "       -1.29187517e+00, -1.02906914e+00, -6.37084926e-01, -1.00262689e-01,\n",
       "        3.79539482e-01,  7.75912906e-01,  1.11947018e+00,  1.39340915e+00,\n",
       "        1.57661781e+00,  1.66238028e+00,  1.65051522e+00,  1.54086572e+00,\n",
       "        1.33483448e+00,  1.04272713e+00,  6.85759970e-01,  2.64313538e-01,\n",
       "       -2.66863503e-01, -7.64654464e-01, -1.11317936e+00, -1.35406208e+00,\n",
       "       -1.49374730e+00, -1.53352667e+00, -1.47799737e+00, -1.32969287e+00,\n",
       "       -1.08997675e+00, -7.63217762e-01, -3.68567846e-01,  4.66467120e-02,\n",
       "        3.96071682e-01,  5.68524771e-01,  4.87598132e-01,  3.20904494e-01,\n",
       "        3.18324516e-01,  4.47182801e-01,  6.16785042e-01,  6.89726609e-01,\n",
       "        5.59277479e-01,  1.88899160e-01, -1.47300099e-01, -2.94169742e-01,\n",
       "       -3.20705695e-01, -3.36195850e-01, -4.35674237e-01, -6.69033605e-01,\n",
       "       -8.74883604e-01, -8.26801031e-01, -5.53007192e-01, -1.43893910e-01,\n",
       "        3.06170453e-01,  7.32910778e-01,  1.09756391e+00,  1.37186664e+00,\n",
       "        1.52779040e+00,  1.53905848e+00,  1.39486007e+00,  1.08238843e+00,\n",
       "        6.34731913e-01,  2.05448185e-01, -2.14523100e-01, -6.42777272e-01,\n",
       "       -1.04472406e+00, -1.37561364e+00, -1.60953728e+00, -1.73292614e+00,\n",
       "       -1.73839295e+00, -1.62467908e+00, -1.39045892e+00, -1.01815249e+00,\n",
       "       -5.26612527e-01, -4.39888703e-02,  4.21380701e-01,  8.58951357e-01,\n",
       "        1.20825450e+00,  1.40695087e+00,  1.41957742e+00,  1.24929773e+00,\n",
       "        9.80780314e-01,  7.04917855e-01,  4.14709217e-01,  8.64994225e-02,\n",
       "       -2.53293180e-01, -5.61856275e-01, -8.48629283e-01, -1.15099831e+00,\n",
       "       -1.39868138e+00, -1.46262660e+00, -1.33111078e+00, -1.02594839e+00,\n",
       "       -6.03175236e-01, -1.37772047e-01,  3.16938285e-01,  7.62325283e-01,\n",
       "        1.20161542e+00,  1.52194983e+00,  1.68832361e+00,  1.71255453e+00,\n",
       "        1.59516832e+00,  1.34726566e+00,  9.91345335e-01,  5.58738046e-01,\n",
       "        9.48939298e-02, -3.40799923e-01, -7.17328333e-01, -1.05032598e+00,\n",
       "       -1.35696735e+00, -1.57594499e+00, -1.64542006e+00, -1.55777173e+00,\n",
       "       -1.31663259e+00, -9.48750661e-01, -5.01586170e-01, -4.84481192e-03,\n",
       "        5.51532283e-01,  1.05666904e+00,  1.43705479e+00,  1.71110133e+00,\n",
       "        1.88779779e+00,  1.96591904e+00,  1.94570889e+00,  1.82774985e+00,\n",
       "        1.61200576e+00,  1.30282651e+00,  9.17247853e-01,  4.84266449e-01,\n",
       "       -1.32905083e-03, -5.75210391e-01, -1.04730951e+00, -1.37223262e+00,\n",
       "       -1.58546407e+00, -1.69238347e+00, -1.69985955e+00, -1.61580349e+00,\n",
       "       -1.44249835e+00, -1.17783049e+00, -8.24398623e-01, -4.04201861e-01,\n",
       "        2.53838885e-02,  3.56386876e-01,  4.65112664e-01,  3.33535897e-01,\n",
       "        2.85814170e-01,  4.26735128e-01,  6.74613546e-01,  9.07370384e-01,\n",
       "        9.77453375e-01,  7.99285042e-01,  3.88965105e-01,  6.75153138e-02,\n",
       "       -1.19148131e-01, -2.45097631e-01, -3.99290306e-01, -6.50466599e-01,\n",
       "       -9.81548965e-01, -1.11117276e+00, -9.77903196e-01, -6.39658819e-01,\n",
       "       -1.97468689e-01,  2.53804696e-01,  6.11081487e-01,  7.50779054e-01,\n",
       "        5.99722829e-01,  3.50733385e-01,  2.82298836e-01,  3.51215854e-01,\n",
       "        4.10774174e-01,  2.89809967e-01, -8.09995318e-02, -4.07223622e-01,\n",
       "       -4.75999489e-01, -3.76105783e-01, -2.90953526e-01, -3.57302371e-01,\n",
       "       -6.03270927e-01, -7.12810386e-01, -5.31181387e-01, -1.46101235e-01,\n",
       "        3.15515123e-01,  7.52203190e-01,  1.06351149e+00,  1.15596447e+00,\n",
       "        9.81972739e-01,  6.38024377e-01,  3.89109272e-01,  2.21986294e-01,\n",
       "        6.79857689e-02, -1.50557958e-01, -5.04865195e-01, -8.98859731e-01,\n",
       "       -1.04071369e+00, -9.40470656e-01, -6.89406897e-01, -4.33714277e-01,\n",
       "       -2.91429356e-01, -3.42526400e-01, -4.56890493e-01, -3.21325931e-01,\n",
       "        2.88723050e-02,  4.65309522e-01,  8.83229325e-01,  1.22775800e+00,\n",
       "        1.48000654e+00,  1.63892826e+00,  1.70834343e+00,  1.68839537e+00,\n",
       "        1.57332639e+00,  1.35766155e+00,  1.04183482e+00,  6.01842303e-01,\n",
       "        1.59653223e-02, -4.94484211e-01, -9.20454038e-01, -1.29088998e+00,\n",
       "       -1.58434014e+00, -1.78368525e+00, -1.88738660e+00, -1.89872099e+00,\n",
       "       -1.81792171e+00])"
      ]
     },
     "execution_count": 11,
     "metadata": {},
     "output_type": "execute_result"
    }
   ],
   "source": [
    "z[0]"
   ]
  },
  {
   "cell_type": "code",
   "execution_count": 12,
   "id": "055d6f21",
   "metadata": {},
   "outputs": [],
   "source": [
    "x1_angle=x_train[:,0]\n",
    "x2_angle=x_train[:,1]\n",
    "x1_velocity=x_train[:,2]\n",
    "x2_velocity=x_train[:,3]"
   ]
  },
  {
   "cell_type": "code",
   "execution_count": 15,
   "id": "9006719b",
   "metadata": {},
   "outputs": [],
   "source": [
    "# Setting up data to forecast the position of the pendulum after 20 steps\n",
    "# We'll base our prediction on the following 20 swings of the pendulum\n",
    "\n",
    "\n",
    "# Timesteps ahead for our prediction\n",
    "timeframe = 20 \n",
    "\n",
    "\n",
    "# Initialising two lists (X and Y) to store target positions (Y) and input sequences (X)\n",
    "X, Y = [], []\n",
    "\n",
    "\n",
    "# Looping through positions\n",
    "# We will stop 'timeframe' steps before the end to avoid going out of bounds\n",
    "\n",
    "for i in range(len(x1_angle) - timeframe):\n",
    "    \n",
    "    # Stack the next 'timeframe' positions of both masses to serve as the input sequence\n",
    "    X.append(np.vstack((x1_angle[i:i+timeframe], x2_angle[i:i+timeframe], x1_velocity[i:i+timeframe], x2_velocity[i:i+timeframe])).T)\n",
    "    \n",
    "    # Record the positions of both masses 20 steps ahead from the current timestep to set as the prediction target\n",
    "    Y.append([x1_angle[i+timeframe], x2_angle[i+timeframe], x1_velocity[i+timeframe], x2_velocity[i+timeframe]])\n",
    "\n",
    "\n",
    "# Converting position sequences to numpy array\n",
    "X = np.array(X)\n",
    "\n",
    "# Converting targets (positions 20 steps ahead) to numpy array\n",
    "Y = np.array(Y)"
   ]
  },
  {
   "cell_type": "code",
   "execution_count": 21,
   "id": "97db694b",
   "metadata": {},
   "outputs": [
    {
     "data": {
      "text/plain": [
       "(1480, 4)"
      ]
     },
     "execution_count": 21,
     "metadata": {},
     "output_type": "execute_result"
    }
   ],
   "source": [
    "np.shape(Y)"
   ]
  },
  {
   "cell_type": "code",
   "execution_count": 22,
   "id": "baf77d85",
   "metadata": {},
   "outputs": [
    {
     "data": {
      "text/plain": [
       "(1500,)"
      ]
     },
     "execution_count": 22,
     "metadata": {},
     "output_type": "execute_result"
    }
   ],
   "source": [
    "np.shape(x1_angle)"
   ]
  },
  {
   "cell_type": "code",
   "execution_count": 23,
   "id": "1f88b44f",
   "metadata": {},
   "outputs": [
    {
     "data": {
      "text/plain": [
       "(1480, 20, 4)"
      ]
     },
     "execution_count": 23,
     "metadata": {},
     "output_type": "execute_result"
    }
   ],
   "source": [
    "np.shape(X)"
   ]
  },
  {
   "cell_type": "code",
   "execution_count": 24,
   "id": "fb071649",
   "metadata": {},
   "outputs": [],
   "source": [
    "from tensorflow.keras.models import Sequential # Importing the sequential model class\n",
    "from tensorflow.keras.layers import LSTM, Dense # Importing LSTM and Dense layer classes\n",
    "\n",
    "\n",
    "# ------ Defining an RNN (Recurrent Neural Network) model with LSTM (Long Short-Term Memory) layers --------\n",
    "\n",
    "model = Sequential([\n",
    "    \n",
    "    LSTM(64, input_shape=(timeframe, 4), return_sequences=True),  # First LSTM layer with 64 units, returning sequences\n",
    "    LSTM(32),  # Second LSTM layer with 32 units\n",
    "    Dense(4)   # Output layer for future x1, y1, x2, y2 positions\n",
    "\n",
    "])\n",
    "\n",
    "# Compiling model with MSE loss function and Adam optimizer\n",
    "model.compile(optimizer='adam', loss='mse')"
   ]
  },
  {
   "cell_type": "code",
   "execution_count": 25,
   "id": "0c2eb79d",
   "metadata": {},
   "outputs": [
    {
     "name": "stdout",
     "output_type": "stream",
     "text": [
      "Epoch 1/50\n",
      "37/37 [==============================] - 9s 79ms/step - loss: 3401.6416 - val_loss: 145.2436\n",
      "Epoch 2/50\n",
      "37/37 [==============================] - 1s 34ms/step - loss: 3148.7976 - val_loss: 123.3779\n",
      "Epoch 3/50\n",
      "37/37 [==============================] - 1s 36ms/step - loss: 2998.0999 - val_loss: 102.5976\n",
      "Epoch 4/50\n",
      "37/37 [==============================] - 1s 36ms/step - loss: 2904.2407 - val_loss: 86.7976\n",
      "Epoch 5/50\n",
      "37/37 [==============================] - 1s 37ms/step - loss: 2832.2727 - val_loss: 75.9656\n",
      "Epoch 6/50\n",
      "37/37 [==============================] - 1s 39ms/step - loss: 2766.7549 - val_loss: 67.1969\n",
      "Epoch 7/50\n",
      "37/37 [==============================] - 1s 36ms/step - loss: 2704.6633 - val_loss: 60.3785\n",
      "Epoch 8/50\n",
      "37/37 [==============================] - 1s 36ms/step - loss: 2645.5171 - val_loss: 53.7212\n",
      "Epoch 9/50\n",
      "37/37 [==============================] - 1s 37ms/step - loss: 2587.7820 - val_loss: 48.4263\n",
      "Epoch 10/50\n",
      "37/37 [==============================] - 1s 34ms/step - loss: 2532.2251 - val_loss: 43.8132\n",
      "Epoch 11/50\n",
      "37/37 [==============================] - 1s 36ms/step - loss: 2478.2429 - val_loss: 40.3858\n",
      "Epoch 12/50\n",
      "37/37 [==============================] - 1s 36ms/step - loss: 2425.4531 - val_loss: 36.5641\n",
      "Epoch 13/50\n",
      "37/37 [==============================] - 1s 38ms/step - loss: 2374.0566 - val_loss: 34.1514\n",
      "Epoch 14/50\n",
      "37/37 [==============================] - 1s 35ms/step - loss: 2323.8862 - val_loss: 31.1121\n",
      "Epoch 15/50\n",
      "37/37 [==============================] - 1s 35ms/step - loss: 2274.8435 - val_loss: 28.5874\n",
      "Epoch 16/50\n",
      "37/37 [==============================] - 1s 34ms/step - loss: 2226.8521 - val_loss: 26.3727\n",
      "Epoch 17/50\n",
      "37/37 [==============================] - 1s 38ms/step - loss: 2179.9229 - val_loss: 25.8256\n",
      "Epoch 18/50\n",
      "37/37 [==============================] - 1s 38ms/step - loss: 2134.0039 - val_loss: 22.6805\n",
      "Epoch 19/50\n",
      "37/37 [==============================] - 1s 37ms/step - loss: 2088.8906 - val_loss: 21.6426\n",
      "Epoch 20/50\n",
      "37/37 [==============================] - 1s 39ms/step - loss: 2044.6965 - val_loss: 20.3193\n",
      "Epoch 21/50\n",
      "37/37 [==============================] - 1s 36ms/step - loss: 2001.3243 - val_loss: 19.2225\n",
      "Epoch 22/50\n",
      "37/37 [==============================] - 1s 37ms/step - loss: 1959.0590 - val_loss: 18.8262\n",
      "Epoch 23/50\n",
      "37/37 [==============================] - 2s 42ms/step - loss: 1917.3418 - val_loss: 17.0394\n",
      "Epoch 24/50\n",
      "37/37 [==============================] - 2s 44ms/step - loss: 1876.5946 - val_loss: 16.5582\n",
      "Epoch 25/50\n",
      "37/37 [==============================] - 1s 39ms/step - loss: 1836.4143 - val_loss: 15.7067\n",
      "Epoch 26/50\n",
      "37/37 [==============================] - 1s 38ms/step - loss: 1797.0266 - val_loss: 15.5477\n",
      "Epoch 27/50\n",
      "37/37 [==============================] - 1s 36ms/step - loss: 1758.5842 - val_loss: 15.7233\n",
      "Epoch 28/50\n",
      "37/37 [==============================] - 1s 36ms/step - loss: 1720.6089 - val_loss: 15.2617\n",
      "Epoch 29/50\n",
      "37/37 [==============================] - 1s 36ms/step - loss: 1683.6129 - val_loss: 14.9471\n",
      "Epoch 30/50\n",
      "37/37 [==============================] - 1s 37ms/step - loss: 1646.8595 - val_loss: 14.3099\n",
      "Epoch 31/50\n",
      "37/37 [==============================] - 2s 53ms/step - loss: 1611.3311 - val_loss: 14.5913\n",
      "Epoch 32/50\n",
      "37/37 [==============================] - 2s 46ms/step - loss: 1575.8866 - val_loss: 14.6274\n",
      "Epoch 33/50\n",
      "37/37 [==============================] - 1s 34ms/step - loss: 1541.4728 - val_loss: 14.6780\n",
      "Epoch 34/50\n",
      "37/37 [==============================] - 1s 31ms/step - loss: 1507.5879 - val_loss: 14.1921\n",
      "Epoch 35/50\n",
      "37/37 [==============================] - 1s 37ms/step - loss: 1474.1792 - val_loss: 14.5677\n",
      "Epoch 36/50\n",
      "37/37 [==============================] - 1s 40ms/step - loss: 1441.6398 - val_loss: 14.3560\n",
      "Epoch 37/50\n",
      "37/37 [==============================] - 1s 38ms/step - loss: 1409.4294 - val_loss: 15.1114\n",
      "Epoch 38/50\n",
      "37/37 [==============================] - 1s 35ms/step - loss: 1377.9329 - val_loss: 14.6789\n",
      "Epoch 39/50\n",
      "37/37 [==============================] - 1s 31ms/step - loss: 1346.9672 - val_loss: 14.5821\n",
      "Epoch 40/50\n",
      "37/37 [==============================] - 2s 45ms/step - loss: 1316.5891 - val_loss: 14.5176\n",
      "Epoch 41/50\n",
      "37/37 [==============================] - 1s 39ms/step - loss: 1286.8181 - val_loss: 15.3250\n",
      "Epoch 42/50\n",
      "37/37 [==============================] - 2s 41ms/step - loss: 1257.5090 - val_loss: 15.3353\n",
      "Epoch 43/50\n",
      "37/37 [==============================] - 2s 46ms/step - loss: 1228.7292 - val_loss: 15.0793\n",
      "Epoch 44/50\n",
      "37/37 [==============================] - 2s 62ms/step - loss: 1200.6108 - val_loss: 15.2021\n",
      "Epoch 45/50\n",
      "37/37 [==============================] - 2s 45ms/step - loss: 1172.8601 - val_loss: 14.4636\n",
      "Epoch 46/50\n",
      "37/37 [==============================] - 2s 47ms/step - loss: 1145.7817 - val_loss: 14.8947\n",
      "Epoch 47/50\n",
      "37/37 [==============================] - 2s 44ms/step - loss: 1118.9556 - val_loss: 15.0734\n",
      "Epoch 48/50\n",
      "37/37 [==============================] - 1s 38ms/step - loss: 1092.9937 - val_loss: 14.7186\n",
      "Epoch 49/50\n",
      "37/37 [==============================] - 2s 41ms/step - loss: 1067.2515 - val_loss: 15.0380\n",
      "Epoch 50/50\n",
      "37/37 [==============================] - 1s 36ms/step - loss: 1042.0425 - val_loss: 15.1296\n"
     ]
    },
    {
     "data": {
      "text/plain": [
       "<keras.callbacks.History at 0x173c98e9fd0>"
      ]
     },
     "execution_count": 25,
     "metadata": {},
     "output_type": "execute_result"
    }
   ],
   "source": [
    "# Training the model using input sequences to predict future positions, validating on 20% of the data\n",
    "model.fit(X, Y, epochs=50, batch_size=32, validation_split=0.2)"
   ]
  },
  {
   "cell_type": "code",
   "execution_count": null,
   "id": "7ba5eea8",
   "metadata": {},
   "outputs": [],
   "source": [
    "initial_conditions = [\n",
    "    [np.pi/4, np.pi/4, 0, 0],\n",
    "    [np.pi/6, np.pi/3, 0, 0],\n",
    "    [np.pi/3, np.pi/6, 0, 0]\n",
    "]\n",
    "\n",
    "# Defining a figure and its subplots\n",
    "#fig, axes = plt.subplots(len(initial_conditions), 2, figsize=(12, 6*len(initial_conditions))) \n",
    "\n",
    "# Setting the main title for the figure\n",
    "#fig.suptitle('Comparing Network Prediction and solve_ivp Solution', y=1.02, fontsize=15)  \n",
    "\n",
    "# Looping through each set of initial conditions\n",
    "for i, z0_var in enumerate(initial_conditions):\n",
    "    \n",
    "    # Computing the trajectory / motion of the double pendulum for the specified initial conditions\n",
    "    ret_var = solve_ivp(rhs, (0, tmax), z0_var, t_eval=t, args=(L1, L2, m1, m2, g))\n",
    "    \n",
    "    # Converting angular motion data to Cartesian coordinates\n",
    "    positions_var = to_cartesian(*ret_var.y, L1, L2)\n",
    "    \n",
    "    # Extracting the cartesian coordinates of both pendulum masses for the simulated trajectory / motion\n",
    "    x1_var, y1_var, x2_var, y2_var = positions_var[:4]\n",
    "\n",
    "    # Preparing the data sequence for the network's prediction\n",
    "    X_var = [np.vstack((x1_var[j:j+timeframe], y1_var[j:j+timeframe], x2_var[j:j+timeframe], y2_var[j:j+timeframe])).T for j in range(len(x1_var) - timeframe)]\n",
    "    \n",
    "    X_var = np.array(X_var)\n",
    "\n",
    "    # Using the trained RNN model to predict the future positions \n",
    "    # (More simply we are generating predictions using the trained model)\n",
    "\n",
    "    predictions = model.predict(X_var)"
   ]
  }
 ],
 "metadata": {
  "kernelspec": {
   "display_name": "Python 3 (ipykernel)",
   "language": "python",
   "name": "python3"
  },
  "language_info": {
   "codemirror_mode": {
    "name": "ipython",
    "version": 3
   },
   "file_extension": ".py",
   "mimetype": "text/x-python",
   "name": "python",
   "nbconvert_exporter": "python",
   "pygments_lexer": "ipython3",
   "version": "3.9.15"
  }
 },
 "nbformat": 4,
 "nbformat_minor": 5
}
